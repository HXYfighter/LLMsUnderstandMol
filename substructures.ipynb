{
 "cells": [
  {
   "cell_type": "code",
   "execution_count": 2,
   "id": "32fc8676",
   "metadata": {},
   "outputs": [],
   "source": [
    "import sys\n",
    "sys.path.append(\"./codes\")\n",
    "from codes.tokenizer import SPE_Tokenizer\n",
    "from torch.utils.tensorboard import SummaryWriter\n",
    "\n",
    "Celecoxib = [\"Cc1ccc(-c2cc(C(F)(F)F)nn2-c2ccc(S(N)(=O)=O)cc2)cc1\", \\\n",
    "            \"c1(-c2ccc(C)cc2)n(-c2ccc(S(N)(=O)=O)cc2)nc(C(F)(F)F)c1\", \\\n",
    "            \"c1c(S(N)(=O)=O)ccc(-n2nc(C(F)(F)F)cc2-c2ccc(C)cc2)c1\", \\\n",
    "            \"c1(-n2nc(C(F)(F)F)cc2-c2ccc(C)cc2)ccc(S(=O)(=O)N)cc1\", \\\n",
    "            \"c1(C(F)(F)F)cc(-c2ccc(C)cc2)n(-c2ccc(S(=O)(N)=O)cc2)n1\"]\n",
    "Troglitazone = [\"Cc1c(C)c2c(c(C)c1O)CCC(C)(COc1ccc(CC3SC(=O)NC3=O)cc1)O2\", \\\n",
    "                \"CC1(COc2ccc(CC3C(=O)NC(=O)S3)cc2)Oc2c(C)c(C)c(O)c(C)c2CC1\", \\\n",
    "                \"c12c(c(C)c(O)c(C)c1C)CCC(C)(COc1ccc(CC3C(=O)NC(=O)S3)cc1)O2\", \\\n",
    "                \"C1(COc2ccc(CC3C(=O)NC(=O)S3)cc2)(C)CCc2c(C)c(O)c(C)c(C)c2O1\", \\\n",
    "                \"c1(C)c2c(c(C)c(C)c1O)OC(C)(COc1ccc(CC3SC(=O)NC3=O)cc1)CC2\"]\n",
    "Thiothixene = [\"CN1CCN(CC/C=C2/c3ccccc3Sc3ccc(S(=O)(=O)N(C)C)cc32)CC1\", \\\n",
    "                \"c1cc2c(cc1)Sc1c(cc(S(=O)(=O)N(C)C)cc1)/C2=C\\CCN1CCN(C)CC1\", \\\n",
    "                \"c1cc2c(cc1)/C(=C/CCN1CCN(C)CC1)c1cc(S(=O)(N(C)C)=O)ccc1S2\", \\\n",
    "                \"C(N1CCN(C)CC1)C/C=C1/c2ccccc2Sc2c1cc(S(N(C)C)(=O)=O)cc2\", \\\n",
    "                \"c1c(S(=O)(=O)N(C)C)ccc2c1/C(=C\\CCN1CCN(C)CC1)c1ccccc1S2\"]"
   ]
  },
  {
   "cell_type": "code",
   "execution_count": 6,
   "id": "a91ae4e2",
   "metadata": {},
   "outputs": [
    {
     "name": "stdout",
     "output_type": "stream",
     "text": [
      "['^', 'Cc1ccc(-c2cc(C(F)(F)F)nn2-c2ccc(S(N)(=O)=O)cc2)cc1', '$']\n",
      "['^', 'c1(', '-c2ccc(C)cc2)n(-c2ccc(', 'S(N)(=O)=O', ')cc2)', 'nc(C(F)(F)F)', 'c1', '$']\n",
      "['^', 'c1c(', 'S(N)(=O)=O', ')ccc(', '-n2nc(C(F)(F)F)cc2', '-c2ccc(C)cc2)c1', '$']\n"
     ]
    }
   ],
   "source": [
    "codes = open(f\"guacamol_0/tokens_step999.txt\", 'r')\n",
    "SPE_tokenizer = SPE_Tokenizer(codes)\n",
    "codes.close()\n",
    "for i in range(3):\n",
    "    tokens = SPE_tokenizer.tokenize(Celecoxib[i])\n",
    "    print(tokens)"
   ]
  },
  {
   "cell_type": "code",
   "execution_count": 7,
   "id": "9f2c8421",
   "metadata": {},
   "outputs": [
    {
     "name": "stdout",
     "output_type": "stream",
     "text": [
      "['^', 'Cc1c(C)c2c(c(C)c1O)CC', 'C(C)(COc1ccc(CC3', 'SC(=O)NC3=O', ')cc1)O2', '$']\n",
      "['^', 'CC1', '(COc2ccc(CC3', 'C(=O)NC(=O)S', '3)cc2', ')O', 'c2', 'c(C)c(C)c(O)c(C)c', '2', 'CC1', '$']\n",
      "['^', 'c1', '2c(c(C)c', '(O)c(C)c', '1', 'C)CC', 'C(C)(COc1ccc(CC3', 'C(=O)NC(=O)S3', ')cc1)O2', '$']\n"
     ]
    }
   ],
   "source": [
    "codes = open(f\"guacamol_1/tokens_step999.txt\", 'r')\n",
    "SPE_tokenizer = SPE_Tokenizer(codes)\n",
    "codes.close()\n",
    "for i in range(3):\n",
    "    tokens = SPE_tokenizer.tokenize(Troglitazone[i])\n",
    "    print(tokens)"
   ]
  },
  {
   "cell_type": "code",
   "execution_count": 8,
   "id": "6a99a61f",
   "metadata": {},
   "outputs": [
    {
     "name": "stdout",
     "output_type": "stream",
     "text": [
      "['^', 'CN1CC', 'N(', 'CC', '/', 'C', '=', 'C', '2', '/', 'c3', 'ccccc3', 'Sc3ccc(', 'S(=O)(=O)N(C)C)cc', '32)CC1', '$']\n",
      "['^', 'c1cc2c(cc1)S', 'c1', 'c(cc(', 'S(=O)(=O)N(C)C)cc', '1)', '/', 'C', '2', '=', 'C', '\\\\', 'CCN1CCN(C)CC', '1', '$']\n",
      "['^', 'c1cc2c(cc', '1)', '/', 'C', '(', '=', 'C', '/', 'CCN1CCN(C)CC1)', 'c1cc(', 'S(=O)(N(C)C)=O)cc', 'c1S2', '$']\n"
     ]
    }
   ],
   "source": [
    "codes = open(f\"guacamol_2/tokens_step999.txt\", 'r')\n",
    "SPE_tokenizer = SPE_Tokenizer(codes)\n",
    "codes.close()\n",
    "for i in range(3):\n",
    "    tokens = SPE_tokenizer.tokenize(Thiothixene[i])\n",
    "    print(tokens)"
   ]
  }
 ],
 "metadata": {
  "kernelspec": {
   "display_name": "Python 3 (ipykernel)",
   "language": "python",
   "name": "python3"
  },
  "language_info": {
   "codemirror_mode": {
    "name": "ipython",
    "version": 3
   },
   "file_extension": ".py",
   "mimetype": "text/x-python",
   "name": "python",
   "nbconvert_exporter": "python",
   "pygments_lexer": "ipython3",
   "version": "3.7.16"
  }
 },
 "nbformat": 4,
 "nbformat_minor": 5
}
