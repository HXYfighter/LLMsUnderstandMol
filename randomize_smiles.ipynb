{
 "cells": [
  {
   "cell_type": "code",
   "execution_count": 6,
   "id": "b6499a5a",
   "metadata": {},
   "outputs": [],
   "source": [
    "from rdkit import Chem\n",
    "import numpy as np\n",
    "\n",
    "Celecoxib = \"Cc1ccc(-c2cc(C(F)(F)F)nn2-c2ccc(S(N)(=O)=O)cc2)cc1\"\n",
    "Troglitazone = \"Cc1c(C)c2c(c(C)c1O)CCC(C)(COc1ccc(CC3SC(=O)NC3=O)cc1)O2\"\n",
    "Thiothixene = \"CN1CCN(CC/C=C2/c3ccccc3Sc3ccc(S(=O)(=O)N(C)C)cc32)CC1\"\n",
    "\n",
    "def randomize_smiles(smiles):\n",
    "    # randomize SMILES for data augmentation\n",
    "    mol = Chem.MolFromSmiles(smiles)\n",
    "    if mol == None:\n",
    "        return smiles\n",
    "    ans = list(range(mol.GetNumAtoms()))\n",
    "    if ans == []:\n",
    "        return smiles\n",
    "    np.random.shuffle(ans)\n",
    "    new_mol = Chem.RenumberAtoms(mol, ans)\n",
    "    return Chem.MolToSmiles(new_mol, canonical=False)"
   ]
  },
  {
   "cell_type": "code",
   "execution_count": 4,
   "id": "8efedee8",
   "metadata": {},
   "outputs": [
    {
     "name": "stdout",
     "output_type": "stream",
     "text": [
      "c1(-c2ccc(C)cc2)n(-c2ccc(S(N)(=O)=O)cc2)nc(C(F)(F)F)c1\n",
      "c1c(S(N)(=O)=O)ccc(-n2nc(C(F)(F)F)cc2-c2ccc(C)cc2)c1\n",
      "c1(-n2nc(C(F)(F)F)cc2-c2ccc(C)cc2)ccc(S(=O)(=O)N)cc1\n",
      "c1(C(F)(F)F)cc(-c2ccc(C)cc2)n(-c2ccc(S(=O)(N)=O)cc2)n1\n"
     ]
    }
   ],
   "source": [
    "for i in range(4):\n",
    "    print(randomize_smiles(Celecoxib))"
   ]
  },
  {
   "cell_type": "code",
   "execution_count": 7,
   "id": "018567b3",
   "metadata": {},
   "outputs": [
    {
     "name": "stdout",
     "output_type": "stream",
     "text": [
      "CC1(COc2ccc(CC3C(=O)NC(=O)S3)cc2)Oc2c(C)c(C)c(O)c(C)c2CC1\n",
      "c12c(c(C)c(O)c(C)c1C)CCC(C)(COc1ccc(CC3C(=O)NC(=O)S3)cc1)O2\n",
      "C1(COc2ccc(CC3C(=O)NC(=O)S3)cc2)(C)CCc2c(C)c(O)c(C)c(C)c2O1\n",
      "c1(C)c2c(c(C)c(C)c1O)OC(C)(COc1ccc(CC3SC(=O)NC3=O)cc1)CC2\n"
     ]
    }
   ],
   "source": [
    "for i in range(4):\n",
    "    print(randomize_smiles(Troglitazone))"
   ]
  },
  {
   "cell_type": "code",
   "execution_count": 8,
   "id": "fe07efaa",
   "metadata": {},
   "outputs": [
    {
     "name": "stdout",
     "output_type": "stream",
     "text": [
      "c1cc2c(cc1)Sc1c(cc(S(=O)(=O)N(C)C)cc1)/C2=C\\CCN1CCN(C)CC1\n",
      "c1cc2c(cc1)/C(=C/CCN1CCN(C)CC1)c1cc(S(=O)(N(C)C)=O)ccc1S2\n",
      "C(N1CCN(C)CC1)C/C=C1/c2ccccc2Sc2c1cc(S(N(C)C)(=O)=O)cc2\n",
      "c1c(S(=O)(=O)N(C)C)ccc2c1/C(=C\\CCN1CCN(C)CC1)c1ccccc1S2\n"
     ]
    }
   ],
   "source": [
    "for i in range(4):\n",
    "    print(randomize_smiles(Thiothixene))"
   ]
  },
  {
   "cell_type": "code",
   "execution_count": 10,
   "id": "de1ceee2",
   "metadata": {},
   "outputs": [
    {
     "data": {
      "text/plain": [
       "['CN1CCN(CCC=C2c3ccccc3Sc3ccc(S(=O)(=O)N(C)C)cc32)CC1',\n",
       " 'CN1CCN(CCC=C2c3ccccc3Sc3ccc(S(=O)(=O)N(C)C)cc32)CC1']"
      ]
     },
     "execution_count": 10,
     "metadata": {},
     "output_type": "execute_result"
    }
   ],
   "source": [
    "def canonicalize_SMILES(smiles):\n",
    "    mols = [Chem.MolFromSmiles(s) for s in smiles]\n",
    "    smiles_canonicalized = [Chem.MolToSmiles(x, isomericSmiles=False) for x in mols]\n",
    "    return smiles_canonicalized\n",
    "\n",
    "canonicalize_SMILES([\"c1cc2c(cc1)Sc1c(cc(S(=O)(=O)N(C)C)cc1)/C2=C\\CCN1CCN(C)CC1\", \n",
    "                    \"c1c(S(=O)(=O)N(C)C)ccc2c1/C(=C\\CCN1CCN(C)CC1)c1ccccc1S2\"])"
   ]
  }
 ],
 "metadata": {
  "kernelspec": {
   "display_name": "Python 3 (ipykernel)",
   "language": "python",
   "name": "python3"
  },
  "language_info": {
   "codemirror_mode": {
    "name": "ipython",
    "version": 3
   },
   "file_extension": ".py",
   "mimetype": "text/x-python",
   "name": "python",
   "nbconvert_exporter": "python",
   "pygments_lexer": "ipython3",
   "version": "3.7.16"
  }
 },
 "nbformat": 4,
 "nbformat_minor": 5
}
